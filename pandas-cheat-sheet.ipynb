{
 "cells": [
  {
   "cell_type": "markdown",
   "metadata": {},
   "source": [
    "# Pandas Cheat Sheet\n",
    "This notebook is for brief snippets of helpful pandas commands that I've accumulated over time. Because I don't use pandas everyday, I've previously kept all this in an Evernote, but figured a Jupyter notebook would be more appropriate to give examples"
   ]
  },
  {
   "cell_type": "markdown",
   "metadata": {},
   "source": [
    "## Combining multiple CSVs in a directory into a dataframe\n",
    "CSVs typically work a bit faster since the read_csv method has the chunksize argument, and read_excel does not. Getting filters in on each chunk before it's concatenated into a combined dataframe makes this a ton more manageable"
   ]
  },
  {
   "cell_type": "code",
   "execution_count": null,
   "metadata": {},
   "outputs": [],
   "source": [
    "import os\n",
    "import os.path\n",
    "import pandas as pd\n",
    "import numpy as np\n",
    "\n",
    "# if this is a script to be run from a cron job:\n",
    "# SCRIPT_PATH = os.path.dirname(os.path.abspath(__file__))\n",
    "# otherwise use '.' because __file__ does not exist in a jupyter notebook\n",
    "\n",
    "SCRIPT_PATH = '.'\n",
    "DATA_FOLDER = os.path.join(SCRIPT_PATH, 'data')\n",
    "CHUNKSIZE = 10000\n",
    "\n",
    "csvs_in_dir = [os.path.join(DATA_FOLDER, f) for f in os.listdir(DATA_FOLDER) if f.endswith('csv')]\n",
    "\n",
    "combined_df = pd.DataFrame()\n",
    "\n",
    "for file in csvs_in_dir:\n",
    "    for chunk in pd.read_csv(file, chunksize=CHUNKSIZE):\n",
    "        chunk = chunk.replace(np.nan, 'None')\n",
    "        # Add any other filters here\n",
    "        combined_df = pd.concat([combined_df, chunk])"
   ]
  },
  {
   "cell_type": "markdown",
   "metadata": {},
   "source": [
    "## Converting a column to date/time\n",
    "For whatever reason, our date/time has never been formatted where pandas could auto-detect a datetime dtype. For the string representation, I typically use https://docs.python.org/3/library/datetime.html#strftime-and-strptime-behavior"
   ]
  },
  {
   "cell_type": "code",
   "execution_count": null,
   "metadata": {},
   "outputs": [],
   "source": [
    "DTTM_STR_FORMAT = '%m/%d/%Y %H:%M'\n",
    "\n",
    "combined_df['ACTIVITY_DT_TM'] = pd.to_datetime(combined_df['ACTIVITY_DT_TM'], format=DTTM_STR_FORMAT)\n",
    "combined_df['SERVICE_DT_TM'] = pd.to_datetime(combined_df['SERVICE_DT_TM'], format=DTTM_STR_FORMAT)"
   ]
  },
  {
   "cell_type": "markdown",
   "metadata": {},
   "source": [
    "## Replacing column values with regex\n",
    "See also: https://pandas.pydata.org/pandas-docs/stable/generated/pandas.DataFrame.replace.html\n",
    "This is helpful if you need to make sweeping changes or formatting changes to the values of a column"
   ]
  },
  {
   "cell_type": "code",
   "execution_count": null,
   "metadata": {},
   "outputs": [],
   "source": [
    "# Probably not the best way:\n",
    "pd.options.mode.chained_assignment = None\n",
    "df['ORDERED_AS_MNEMONIC.1'].replace(regex=True, inplace=True, to_replace=r' \\(ONC\\)', value=r'')b"
   ]
  },
  {
   "cell_type": "markdown",
   "metadata": {},
   "source": [
    "## Using the group by function to visualize continuous values"
   ]
  },
  {
   "cell_type": "code",
   "execution_count": null,
   "metadata": {},
   "outputs": [],
   "source": [
    "df.groupby(pd.cut(df3['DIFF'], np.arange( -1830, 200, 20)))['DIFF'].count()\n",
    "# ['DIFF'] includes what columns to return\n",
    "# count() is the aggregation function\n",
    "# pd.cut separates out the continuous values by the range denoted by np.arange()"
   ]
  },
  {
   "cell_type": "markdown",
   "metadata": {},
   "source": [
    "## Quick aggregation/summarizing columns\n",
    "Summarizing can be done by creating a ```Series``` or a ```DataFrame```\n",
    "\n",
    "With a ```Series```, the column in the ```groupby``` method becomes the index, and the column in brackets is subject to the aggregation function\n",
    "\n",
    "With the ```dataframe```, we can have multiple aggregation functions in the agg method"
   ]
  },
  {
   "cell_type": "code",
   "execution_count": null,
   "metadata": {},
   "outputs": [],
   "source": [
    "# Creating a series\n",
    "df.groupby('column_name')['column_name'].count()\n",
    "\n",
    "# Creating a dataframe\n",
    "df[['column1', 'column2']].groupby('column1').agg(['min', 'max'])"
   ]
  },
  {
   "cell_type": "markdown",
   "metadata": {},
   "source": [
    "## Sorting values on something that has a MultiIndex\n",
    "If you have a multi-index, if you do a quick glance at your dataframe, you should see levels in your column names. You can sort things by putting the different level names into a tuple with the sort_values method"
   ]
  },
  {
   "cell_type": "code",
   "execution_count": null,
   "metadata": {},
   "outputs": [],
   "source": [
    "reviews[['variety', 'price']].groupby('variety').agg(['min', 'max']).sort_values([('price', 'min'), ('price', 'max')], ascending=False)"
   ]
  },
  {
   "cell_type": "markdown",
   "metadata": {},
   "source": [
    "## Grouping and concatenating multiple rows in a columns to a single row\n",
    "If you have a dozen rows, you can concatenate it to make the final output a little cleaner to end-users. Note this is probably not that helpful for analysts, since they can't do as much with it as a spreadsheet"
   ]
  },
  {
   "cell_type": "code",
   "execution_count": 7,
   "metadata": {},
   "outputs": [
    {
     "data": {
      "text/html": [
       "<div>\n",
       "<style scoped>\n",
       "    .dataframe tbody tr th:only-of-type {\n",
       "        vertical-align: middle;\n",
       "    }\n",
       "\n",
       "    .dataframe tbody tr th {\n",
       "        vertical-align: top;\n",
       "    }\n",
       "\n",
       "    .dataframe thead th {\n",
       "        text-align: right;\n",
       "    }\n",
       "</style>\n",
       "<table border=\"1\" class=\"dataframe\">\n",
       "  <thead>\n",
       "    <tr style=\"text-align: right;\">\n",
       "      <th></th>\n",
       "      <th>Station</th>\n",
       "      <th>Setting</th>\n",
       "    </tr>\n",
       "  </thead>\n",
       "  <tbody>\n",
       "    <tr>\n",
       "      <th>0</th>\n",
       "      <td>Station 1</td>\n",
       "      <td>CriticalCare</td>\n",
       "    </tr>\n",
       "    <tr>\n",
       "      <th>1</th>\n",
       "      <td>Station 1</td>\n",
       "      <td>StepDown</td>\n",
       "    </tr>\n",
       "    <tr>\n",
       "      <th>2</th>\n",
       "      <td>Station 1</td>\n",
       "      <td>Emergency</td>\n",
       "    </tr>\n",
       "    <tr>\n",
       "      <th>3</th>\n",
       "      <td>Station 1</td>\n",
       "      <td>Obstetric</td>\n",
       "    </tr>\n",
       "    <tr>\n",
       "      <th>4</th>\n",
       "      <td>Station 1</td>\n",
       "      <td>Behavioral</td>\n",
       "    </tr>\n",
       "  </tbody>\n",
       "</table>\n",
       "</div>"
      ],
      "text/plain": [
       "     Station       Setting\n",
       "0  Station 1  CriticalCare\n",
       "1  Station 1      StepDown\n",
       "2  Station 1     Emergency\n",
       "3  Station 1     Obstetric\n",
       "4  Station 1    Behavioral"
      ]
     },
     "execution_count": 7,
     "metadata": {},
     "output_type": "execute_result"
    }
   ],
   "source": [
    "df = pd.read_csv('sample_settings.csv', header=None, names=['Station', 'Setting'])\n",
    "df.head()"
   ]
  },
  {
   "cell_type": "code",
   "execution_count": 11,
   "metadata": {},
   "outputs": [
    {
     "data": {
      "text/html": [
       "<div>\n",
       "<style scoped>\n",
       "    .dataframe tbody tr th:only-of-type {\n",
       "        vertical-align: middle;\n",
       "    }\n",
       "\n",
       "    .dataframe tbody tr th {\n",
       "        vertical-align: top;\n",
       "    }\n",
       "\n",
       "    .dataframe thead th {\n",
       "        text-align: right;\n",
       "    }\n",
       "</style>\n",
       "<table border=\"1\" class=\"dataframe\">\n",
       "  <thead>\n",
       "    <tr style=\"text-align: right;\">\n",
       "      <th></th>\n",
       "      <th>Station</th>\n",
       "      <th>Setting</th>\n",
       "    </tr>\n",
       "  </thead>\n",
       "  <tbody>\n",
       "    <tr>\n",
       "      <th>0</th>\n",
       "      <td>Station 1</td>\n",
       "      <td>CriticalCare, StepDown, Emergency, Obstetric, ...</td>\n",
       "    </tr>\n",
       "    <tr>\n",
       "      <th>1</th>\n",
       "      <td>Station 2</td>\n",
       "      <td>HospitalWide, Pharmacy Only, CriticalCare, Ste...</td>\n",
       "    </tr>\n",
       "    <tr>\n",
       "      <th>2</th>\n",
       "      <td>Station 3</td>\n",
       "      <td>StepDown, Item Override, HospitalWide, Pharmac...</td>\n",
       "    </tr>\n",
       "    <tr>\n",
       "      <th>3</th>\n",
       "      <td>Station 4</td>\n",
       "      <td>HospitalWide, Pharmacy Only, Item Override, Ou...</td>\n",
       "    </tr>\n",
       "    <tr>\n",
       "      <th>4</th>\n",
       "      <td>Station 5</td>\n",
       "      <td>HospitalWide, Pharmacy Only, Item Override, Cr...</td>\n",
       "    </tr>\n",
       "  </tbody>\n",
       "</table>\n",
       "</div>"
      ],
      "text/plain": [
       "     Station                                            Setting\n",
       "0  Station 1  CriticalCare, StepDown, Emergency, Obstetric, ...\n",
       "1  Station 2  HospitalWide, Pharmacy Only, CriticalCare, Ste...\n",
       "2  Station 3  StepDown, Item Override, HospitalWide, Pharmac...\n",
       "3  Station 4  HospitalWide, Pharmacy Only, Item Override, Ou...\n",
       "4  Station 5  HospitalWide, Pharmacy Only, Item Override, Cr..."
      ]
     },
     "execution_count": 11,
     "metadata": {},
     "output_type": "execute_result"
    }
   ],
   "source": [
    "df.groupby('Station', as_index=False).agg(lambda x: ', '.join(x)).head()"
   ]
  },
  {
   "cell_type": "markdown",
   "metadata": {},
   "source": [
    "## Exploding out comma-delimited string values into separate rows\n",
    "This is the opposite of the previous item. This is where you have a comma-delimited string value, that you need to separate into distinct rows"
   ]
  },
  {
   "cell_type": "code",
   "execution_count": 29,
   "metadata": {},
   "outputs": [
    {
     "data": {
      "text/html": [
       "<div>\n",
       "<style scoped>\n",
       "    .dataframe tbody tr th:only-of-type {\n",
       "        vertical-align: middle;\n",
       "    }\n",
       "\n",
       "    .dataframe tbody tr th {\n",
       "        vertical-align: top;\n",
       "    }\n",
       "\n",
       "    .dataframe thead th {\n",
       "        text-align: right;\n",
       "    }\n",
       "</style>\n",
       "<table border=\"1\" class=\"dataframe\">\n",
       "  <thead>\n",
       "    <tr style=\"text-align: right;\">\n",
       "      <th></th>\n",
       "      <th>ID</th>\n",
       "      <th>Setting</th>\n",
       "    </tr>\n",
       "  </thead>\n",
       "  <tbody>\n",
       "    <tr>\n",
       "      <th>0</th>\n",
       "      <td>24250002</td>\n",
       "      <td>Pharmacy Only</td>\n",
       "    </tr>\n",
       "    <tr>\n",
       "      <th>1</th>\n",
       "      <td>24250003</td>\n",
       "      <td>Pharmacy Only</td>\n",
       "    </tr>\n",
       "    <tr>\n",
       "      <th>2</th>\n",
       "      <td>24250005</td>\n",
       "      <td>Pharmacy Only</td>\n",
       "    </tr>\n",
       "    <tr>\n",
       "      <th>3</th>\n",
       "      <td>24250006</td>\n",
       "      <td>Pharmacy Only</td>\n",
       "    </tr>\n",
       "    <tr>\n",
       "      <th>4</th>\n",
       "      <td>24250007</td>\n",
       "      <td>Behavioral, Pharmacy Only</td>\n",
       "    </tr>\n",
       "  </tbody>\n",
       "</table>\n",
       "</div>"
      ],
      "text/plain": [
       "         ID                    Setting\n",
       "0  24250002              Pharmacy Only\n",
       "1  24250003              Pharmacy Only\n",
       "2  24250005              Pharmacy Only\n",
       "3  24250006              Pharmacy Only\n",
       "4  24250007  Behavioral, Pharmacy Only"
      ]
     },
     "execution_count": 29,
     "metadata": {},
     "output_type": "execute_result"
    }
   ],
   "source": [
    "df = pd.read_csv('sample_settings_2.csv')\n",
    "df.columns = ['ID', 'Setting']\n",
    "df.head()"
   ]
  },
  {
   "cell_type": "code",
   "execution_count": 30,
   "metadata": {},
   "outputs": [
    {
     "data": {
      "text/plain": [
       "ID         \n",
       "24250002  0     Pharmacy Only\n",
       "24250003  0     Pharmacy Only\n",
       "24250005  0     Pharmacy Only\n",
       "24250006  0     Pharmacy Only\n",
       "24250007  0        Behavioral\n",
       "          1     Pharmacy Only\n",
       "24250008  0     Pharmacy Only\n",
       "dtype: object"
      ]
     },
     "execution_count": 30,
     "metadata": {},
     "output_type": "execute_result"
    }
   ],
   "source": [
    "new_df = pd.DataFrame(df['Setting'].str.split(',').tolist(), df['ID']).stack()\n",
    "new_df.head(7)"
   ]
  },
  {
   "cell_type": "code",
   "execution_count": 31,
   "metadata": {},
   "outputs": [
    {
     "data": {
      "text/html": [
       "<div>\n",
       "<style scoped>\n",
       "    .dataframe tbody tr th:only-of-type {\n",
       "        vertical-align: middle;\n",
       "    }\n",
       "\n",
       "    .dataframe tbody tr th {\n",
       "        vertical-align: top;\n",
       "    }\n",
       "\n",
       "    .dataframe thead th {\n",
       "        text-align: right;\n",
       "    }\n",
       "</style>\n",
       "<table border=\"1\" class=\"dataframe\">\n",
       "  <thead>\n",
       "    <tr style=\"text-align: right;\">\n",
       "      <th></th>\n",
       "      <th>ID</th>\n",
       "      <th>Setting</th>\n",
       "    </tr>\n",
       "  </thead>\n",
       "  <tbody>\n",
       "    <tr>\n",
       "      <th>0</th>\n",
       "      <td>24250002</td>\n",
       "      <td>Pharmacy Only</td>\n",
       "    </tr>\n",
       "    <tr>\n",
       "      <th>1</th>\n",
       "      <td>24250003</td>\n",
       "      <td>Pharmacy Only</td>\n",
       "    </tr>\n",
       "    <tr>\n",
       "      <th>2</th>\n",
       "      <td>24250005</td>\n",
       "      <td>Pharmacy Only</td>\n",
       "    </tr>\n",
       "    <tr>\n",
       "      <th>3</th>\n",
       "      <td>24250006</td>\n",
       "      <td>Pharmacy Only</td>\n",
       "    </tr>\n",
       "    <tr>\n",
       "      <th>4</th>\n",
       "      <td>24250007</td>\n",
       "      <td>Behavioral</td>\n",
       "    </tr>\n",
       "    <tr>\n",
       "      <th>5</th>\n",
       "      <td>24250007</td>\n",
       "      <td>Pharmacy Only</td>\n",
       "    </tr>\n",
       "    <tr>\n",
       "      <th>6</th>\n",
       "      <td>24250008</td>\n",
       "      <td>Pharmacy Only</td>\n",
       "    </tr>\n",
       "  </tbody>\n",
       "</table>\n",
       "</div>"
      ],
      "text/plain": [
       "         ID         Setting\n",
       "0  24250002   Pharmacy Only\n",
       "1  24250003   Pharmacy Only\n",
       "2  24250005   Pharmacy Only\n",
       "3  24250006   Pharmacy Only\n",
       "4  24250007      Behavioral\n",
       "5  24250007   Pharmacy Only\n",
       "6  24250008   Pharmacy Only"
      ]
     },
     "execution_count": 31,
     "metadata": {},
     "output_type": "execute_result"
    }
   ],
   "source": [
    "new_df = new_df.reset_index()[['ID', 0]]\n",
    "new_df.columns = ['ID', 'Setting']\n",
    "new_df.head(7)"
   ]
  },
  {
   "cell_type": "markdown",
   "metadata": {},
   "source": [
    "## Pivot tables for different time increments and groupings\n",
    "This assumes that you've already converted a field into a date/time field. Here, we would need to add additional fields to designate the time increment, so that we can run the pivot table off of it\n",
    "\n",
    "Since we're using lambda functions, we're taking advantage of the attributes and methods of a datetimeindex class. To see the available attributes/methods: https://pandas.pydata.org/pandas-docs/version/0.23.4/generated/pandas.DatetimeIndex.html\n",
    "\n",
    "**Other fun fact**: For pandas.pivot_table, if you have multiple aggregate functions as a tuple in your aggfunc argument, your resulting pivot table will take the values in your values argument and create a separate column per different aggregate functions"
   ]
  },
  {
   "cell_type": "code",
   "execution_count": 4,
   "metadata": {},
   "outputs": [
    {
     "data": {
      "text/html": [
       "<div>\n",
       "<style scoped>\n",
       "    .dataframe tbody tr th:only-of-type {\n",
       "        vertical-align: middle;\n",
       "    }\n",
       "\n",
       "    .dataframe tbody tr th {\n",
       "        vertical-align: top;\n",
       "    }\n",
       "\n",
       "    .dataframe thead tr th {\n",
       "        text-align: left;\n",
       "    }\n",
       "\n",
       "    .dataframe thead tr:last-of-type th {\n",
       "        text-align: right;\n",
       "    }\n",
       "</style>\n",
       "<table border=\"1\" class=\"dataframe\">\n",
       "  <thead>\n",
       "    <tr>\n",
       "      <th></th>\n",
       "      <th></th>\n",
       "      <th></th>\n",
       "      <th colspan=\"2\" halign=\"left\">Quantity</th>\n",
       "    </tr>\n",
       "    <tr>\n",
       "      <th></th>\n",
       "      <th></th>\n",
       "      <th></th>\n",
       "      <th>count</th>\n",
       "      <th>sum</th>\n",
       "    </tr>\n",
       "    <tr>\n",
       "      <th>MedID</th>\n",
       "      <th>TransactionYear</th>\n",
       "      <th>TransactionWeek</th>\n",
       "      <th></th>\n",
       "      <th></th>\n",
       "    </tr>\n",
       "  </thead>\n",
       "  <tbody>\n",
       "    <tr>\n",
       "      <th>350561</th>\n",
       "      <th>2018</th>\n",
       "      <th>35</th>\n",
       "      <td>1</td>\n",
       "      <td>10</td>\n",
       "    </tr>\n",
       "    <tr>\n",
       "      <th rowspan=\"2\" valign=\"top\">350918</th>\n",
       "      <th rowspan=\"2\" valign=\"top\">2018</th>\n",
       "      <th>34</th>\n",
       "      <td>1</td>\n",
       "      <td>4</td>\n",
       "    </tr>\n",
       "    <tr>\n",
       "      <th>35</th>\n",
       "      <td>1</td>\n",
       "      <td>6</td>\n",
       "    </tr>\n",
       "    <tr>\n",
       "      <th>350934</th>\n",
       "      <th>2018</th>\n",
       "      <th>34</th>\n",
       "      <td>2</td>\n",
       "      <td>2</td>\n",
       "    </tr>\n",
       "    <tr>\n",
       "      <th>351197</th>\n",
       "      <th>2018</th>\n",
       "      <th>35</th>\n",
       "      <td>1</td>\n",
       "      <td>20</td>\n",
       "    </tr>\n",
       "  </tbody>\n",
       "</table>\n",
       "</div>"
      ],
      "text/plain": [
       "                                       Quantity    \n",
       "                                          count sum\n",
       "MedID  TransactionYear TransactionWeek             \n",
       "350561 2018            35                     1  10\n",
       "350918 2018            34                     1   4\n",
       "                       35                     1   6\n",
       "350934 2018            34                     2   2\n",
       "351197 2018            35                     1  20"
      ]
     },
     "execution_count": 4,
     "metadata": {},
     "output_type": "execute_result"
    }
   ],
   "source": [
    "import pandas as pd\n",
    "refill_df = pd.read_csv('sample_refills.csv')\n",
    "\n",
    "# Modify the date/time field dtype from object to date/time\n",
    "DTTM_STR_FORMAT = '%m/%d/%Y %H:%M'\n",
    "refill_df['TransactionDateTime'] = pd.to_datetime(refill_df['TransactionDateTime'], format=DTTM_STR_FORMAT)\n",
    "\n",
    "# Create new fields\n",
    "refill_df['TransactionMonth'] = refill_df['TransactionDateTime'].map(lambda x: x.month)\n",
    "refill_df['TransactionYear'] = refill_df['TransactionDateTime'].map(lambda x: x.year)\n",
    "refill_df['TransactionWeek'] = refill_df['TransactionDateTime'].map(lambda x: x.week)\n",
    "refill_df['TransactionDay'] = refill_df['TransactionDateTime'].map(lambda x: x.date())\n",
    "\n",
    "pd.pivot_table(refill_df, \n",
    "               index=['MedID', 'TransactionYear', 'TransactionWeek'], \n",
    "               values=['Quantity'], aggfunc=('sum', 'count')).head()"
   ]
  },
  {
   "cell_type": "markdown",
   "metadata": {},
   "source": [
    "## Case statements for conditional fields\n",
    "This is helpful when you have a conditional field but have a ton of conditions. Since python and pandas doesn't have a specific case/switch statement, there is something similar we can create.\n",
    "\n",
    "By the way, this probably should not be used in this way with numbers, there are better ways to do this. This is just a simple example"
   ]
  },
  {
   "cell_type": "code",
   "execution_count": 7,
   "metadata": {},
   "outputs": [
    {
     "data": {
      "text/html": [
       "<div>\n",
       "<style scoped>\n",
       "    .dataframe tbody tr th:only-of-type {\n",
       "        vertical-align: middle;\n",
       "    }\n",
       "\n",
       "    .dataframe tbody tr th {\n",
       "        vertical-align: top;\n",
       "    }\n",
       "\n",
       "    .dataframe thead th {\n",
       "        text-align: right;\n",
       "    }\n",
       "</style>\n",
       "<table border=\"1\" class=\"dataframe\">\n",
       "  <thead>\n",
       "    <tr style=\"text-align: right;\">\n",
       "      <th></th>\n",
       "      <th>MedID</th>\n",
       "      <th>Quantity</th>\n",
       "      <th>new_column</th>\n",
       "    </tr>\n",
       "  </thead>\n",
       "  <tbody>\n",
       "    <tr>\n",
       "      <th>0</th>\n",
       "      <td>377309</td>\n",
       "      <td>10</td>\n",
       "      <td>Between 10 and 20</td>\n",
       "    </tr>\n",
       "    <tr>\n",
       "      <th>1</th>\n",
       "      <td>472126</td>\n",
       "      <td>10</td>\n",
       "      <td>Between 10 and 20</td>\n",
       "    </tr>\n",
       "    <tr>\n",
       "      <th>2</th>\n",
       "      <td>361022</td>\n",
       "      <td>10</td>\n",
       "      <td>Between 10 and 20</td>\n",
       "    </tr>\n",
       "    <tr>\n",
       "      <th>3</th>\n",
       "      <td>24250312</td>\n",
       "      <td>20</td>\n",
       "      <td>Between 20 and 30</td>\n",
       "    </tr>\n",
       "    <tr>\n",
       "      <th>4</th>\n",
       "      <td>503490</td>\n",
       "      <td>10</td>\n",
       "      <td>Between 10 and 20</td>\n",
       "    </tr>\n",
       "  </tbody>\n",
       "</table>\n",
       "</div>"
      ],
      "text/plain": [
       "      MedID  Quantity         new_column\n",
       "0    377309        10  Between 10 and 20\n",
       "1    472126        10  Between 10 and 20\n",
       "2    361022        10  Between 10 and 20\n",
       "3  24250312        20  Between 20 and 30\n",
       "4    503490        10  Between 10 and 20"
      ]
     },
     "execution_count": 7,
     "metadata": {},
     "output_type": "execute_result"
    }
   ],
   "source": [
    "import numpy as np\n",
    "\n",
    "conditions = [\n",
    "    (refill_df['Quantity'] >= 0) & (refill_df['Quantity'] < 10),\n",
    "    (refill_df['Quantity'] >= 10) & (refill_df['Quantity'] < 20),\n",
    "    (refill_df['Quantity'] >= 20) & (refill_df['Quantity'] < 30),\n",
    "    (refill_df['Quantity'] >= 30) & (refill_df['Quantity'] < 40),\n",
    "]\n",
    "\n",
    "choices = [\n",
    "    'Between 0 and 10',\n",
    "    'Between 10 and 20',\n",
    "    'Between 20 and 30',\n",
    "    'Between 30 and 40',\n",
    "]\n",
    "\n",
    "refill_df['new_column'] = np.select(conditions, choices, default='None')\n",
    "\n",
    "refill_df[['MedID', 'Quantity', 'new_column']].head()"
   ]
  }
 ],
 "metadata": {
  "kernelspec": {
   "display_name": "Python 3",
   "language": "python",
   "name": "python3"
  },
  "language_info": {
   "codemirror_mode": {
    "name": "ipython",
    "version": 3
   },
   "file_extension": ".py",
   "mimetype": "text/x-python",
   "name": "python",
   "nbconvert_exporter": "python",
   "pygments_lexer": "ipython3",
   "version": "3.5.2"
  }
 },
 "nbformat": 4,
 "nbformat_minor": 2
}
